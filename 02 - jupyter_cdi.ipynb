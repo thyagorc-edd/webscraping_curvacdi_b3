{
 "cells": [
  {
   "cell_type": "code",
   "execution_count": null,
   "metadata": {},
   "outputs": [],
   "source": [
    "from pprint import pprint\n",
    "import datetime\n",
    "from bs4 import BeautifulSoup\n",
    "import pandas as pd\n",
    "from urllib.request import urlopen\n",
    "import pendulum\n",
    "from sqlalchemy import create_engine\n",
    "\n",
    "nowtz = pendulum.now('America/Sao_Paulo')\n",
    "\n",
    "now = nowtz.subtract(days=1)\n",
    "year = now.strftime(\"%Y\")\n",
    "month = now.strftime(\"%m\")\n",
    "day = now.strftime(\"%d\")\n",
    "time = now.strftime(\"%H:%M\")\n",
    "today = now.strftime('%Y-%m-%d')"
   ]
  },
  {
   "cell_type": "code",
   "execution_count": 12,
   "metadata": {},
   "outputs": [],
   "source": [
    "html = urlopen('https://www2.bmf.com.br/pages/portal/bmfbovespa/lumis/lum-taxas-referenciais-bmf-ptBR.asp?Data=05/04/2022&Data1=20220405&slcTaxa=PRE')\n",
    "bs = BeautifulSoup(html, 'html.parser')\n",
    "linhas = bs.find_all('td')"
   ]
  },
  {
   "cell_type": "markdown",
   "metadata": {},
   "source": [
    "### Criando arrays para guardar os registros da coleta\n"
   ]
  },
  {
   "cell_type": "code",
   "execution_count": null,
   "metadata": {},
   "outputs": [],
   "source": [
    "dia, idx_252, idx_360 = [],[],[]\n",
    "\n",
    "## busca e coleta os textos das tags filhas da tabela \n",
    "# Como todos os registros estão em um único array, tive que fazer um salto\n",
    "# de 3 em 3 registros para gravar nos arrays criados\n",
    "# ##\n",
    "children = linhas\n",
    "\n",
    "row = 0\n",
    "while row < len(children):\n",
    "    dia.append(children[row].text)\n",
    "    row = row + 3\n",
    "\n",
    "row = 1\n",
    "while row < len(children):\n",
    "    idx_252.append(children[row].text)\n",
    "    row = row + 3\n",
    "\n",
    "row = 2\n",
    "while row < len(children):\n",
    "    idx_360.append(children[row].text)\n",
    "    row = row + 3    \n",
    "    "
   ]
  },
  {
   "cell_type": "code",
   "execution_count": 15,
   "metadata": {},
   "outputs": [],
   "source": [
    "df = pd.DataFrame({'Data':'2022-04-05', 'Dia': dia, 'ind252':idx_252, 'ind360':idx_360})"
   ]
  },
  {
   "cell_type": "markdown",
   "metadata": {},
   "source": [
    "### Transformando o df para colunas em valores"
   ]
  },
  {
   "cell_type": "code",
   "execution_count": 16,
   "metadata": {},
   "outputs": [],
   "source": [
    "df['ind252'] = df['ind252'].replace(to_replace=',', value='.', regex=True)\n",
    "df['ind360'] = df['ind360'].replace(to_replace=',', value='.', regex=True)"
   ]
  },
  {
   "cell_type": "code",
   "execution_count": 18,
   "metadata": {},
   "outputs": [],
   "source": [
    "df['Data'] = df['Data'].astype('datetime64[ns]')\n",
    "df['Dia'] = df['Dia'].astype(int)\n",
    "df['ind252'] = df['ind252'].astype(float)\n",
    "df['ind360'] = df['ind360'].astype(float)"
   ]
  },
  {
   "cell_type": "code",
   "execution_count": 20,
   "metadata": {},
   "outputs": [],
   "source": [
    "engine = create_engine(f'mssql+pyodbc://{ConfigDB.dbuser()}:{ConfigDB.dbpass()}@{ConfigDB.dbhost()}:1433/{ConfigDB.dbname()}?driver=ODBC+Driver+17+for+SQL+Server')\n",
    "\n",
    "df.to_sql('web_curva_cdi_b3', engine, index=False, if_exists='append' )\n"
   ]
  }
 ],
 "metadata": {
  "interpreter": {
   "hash": "1a4a9f9633b03f69b97f4f24c6a927a73940fa75b8331610fa39f34b84db88e3"
  },
  "kernelspec": {
   "display_name": "Python 3.8.6 64-bit",
   "language": "python",
   "name": "python3"
  },
  "language_info": {
   "codemirror_mode": {
    "name": "ipython",
    "version": 3
   },
   "file_extension": ".py",
   "mimetype": "text/x-python",
   "name": "python",
   "nbconvert_exporter": "python",
   "pygments_lexer": "ipython3",
   "version": "3.8.12"
  },
  "orig_nbformat": 4
 },
 "nbformat": 4,
 "nbformat_minor": 2
}
